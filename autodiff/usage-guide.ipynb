{
 "cells": [
  {
   "cell_type": "markdown",
   "metadata": {},
   "source": [
    "# Getting Started with `AD`"
   ]
  },
  {
   "cell_type": "code",
   "execution_count": 1,
   "metadata": {},
   "outputs": [],
   "source": [
    "import matplotlib.pyplot as plt\n",
    "import numpy as np\n",
    "import AD"
   ]
  },
  {
   "cell_type": "markdown",
   "metadata": {},
   "source": [
    "## Declaring Variables and Performing Elementary Operations\n",
    "### Scalar Variables\n",
    "We may define a scalar variable as follows."
   ]
  },
  {
   "cell_type": "code",
   "execution_count": 2,
   "metadata": {},
   "outputs": [],
   "source": [
    "x = AD.Forward(np.pi)"
   ]
  },
  {
   "cell_type": "markdown",
   "metadata": {},
   "source": [
    "Note that we when a value for the derivative is not specified, a default value of `1.0` is assigned automatically."
   ]
  },
  {
   "cell_type": "code",
   "execution_count": 3,
   "metadata": {},
   "outputs": [
    {
     "data": {
      "text/plain": [
       "Value:\n",
       "3.141592653589793\n",
       "Derivative:\n",
       "1.0"
      ]
     },
     "execution_count": 3,
     "metadata": {},
     "output_type": "execute_result"
    }
   ],
   "source": [
    "x"
   ]
  },
  {
   "cell_type": "markdown",
   "metadata": {},
   "source": [
    "However, we also allow the user to specify a value for the derivative."
   ]
  },
  {
   "cell_type": "code",
   "execution_count": 4,
   "metadata": {
    "scrolled": false
   },
   "outputs": [
    {
     "data": {
      "text/plain": [
       "Value:\n",
       "1.0\n",
       "Derivative:\n",
       "3.0"
      ]
     },
     "execution_count": 4,
     "metadata": {},
     "output_type": "execute_result"
    }
   ],
   "source": [
    "y = AD.Forward(1.0, 3.0)\n",
    "y"
   ]
  },
  {
   "cell_type": "markdown",
   "metadata": {},
   "source": [
    "In addition, we may use scalar variables to define custom scalar functions composed of standard elementary operations."
   ]
  },
  {
   "cell_type": "code",
   "execution_count": 5,
   "metadata": {
    "scrolled": true
   },
   "outputs": [
    {
     "data": {
      "text/plain": [
       "Value:\n",
       "8.86963026268246\n",
       "Derivative:\n",
       "6.283022813997788"
      ]
     },
     "execution_count": 5,
     "metadata": {},
     "output_type": "execute_result"
    }
   ],
   "source": [
    "def f(x):\n",
    "    return x**2 + AD.cos(x) + 0.5*AD.exp(-x**2)\n",
    "\n",
    "f(x)"
   ]
  },
  {
   "cell_type": "markdown",
   "metadata": {},
   "source": [
    "<div class=\"alert alert-info\"> \n",
    "    Since <code>x</code> is a forward mode variable, we must use the implementations of elementary functions defined in the <code>AD</code> module instead of the standard Numpy methods.\n",
    "</div>"
   ]
  },
  {
   "cell_type": "markdown",
   "metadata": {},
   "source": [
    "### Scalar Variables Using Arrays\n",
    "Suppose we wish to define a scalar variable containing an array as the function value to visualize both the function and derivative values (e.g. plot $\\sin x$). `Forward` is versatile enough to handle this directly!"
   ]
  },
  {
   "cell_type": "code",
   "execution_count": 6,
   "metadata": {
    "scrolled": true
   },
   "outputs": [
    {
     "data": {
      "image/png": "[encoded data removed]",
      "text/plain": [
       "<Figure size 432x288 with 1 Axes>"
      ]
     },
     "metadata": {
      "needs_background": "light"
     },
     "output_type": "display_data"
    }
   ],
   "source": [
    "# Instance of the `Forward` class with an array as the function value\n",
    "x = AD.Forward(np.linspace(-np.pi, np.pi, 100))\n",
    "\n",
    "# Function to visualize\n",
    "f1 = AD.sin(x)\n",
    "\n",
    "# Plot function and derivative\n",
    "plt.figure()\n",
    "plt.plot(x.val, f1.val, label=\"$\\sin x$\")\n",
    "plt.plot(x.val, f1.der, label=\"$\\cos x$\")\n",
    "plt.xlabel(\"$x$\")\n",
    "plt.ylabel(\"$y$\")\n",
    "plt.legend()\n",
    "plt.grid()\n",
    "plt.show()"
   ]
  },
  {
   "cell_type": "markdown",
   "metadata": {},
   "source": [
    "### Scalar Variables of Vector Functions\n",
    "Defining a `Forward` variable for a vector function can be accomplished by making use of the attributes defined in the `Forward` class. "
   ]
  },
  {
   "cell_type": "code",
   "execution_count": 7,
   "metadata": {},
   "outputs": [],
   "source": [
    "# Custom vector-valued function in R^2\n",
    "def f(x, y, z):\n",
    "    \n",
    "    # Use the arguments of the callable function to define instances of the Forward class.\n",
    "    X = AD.Forward(x, [1, 0, 0])\n",
    "    Y = AD.Forward(y, [0, 1, 0])\n",
    "    Z = AD.Forward(z, [0, 0, 1])\n",
    "    \n",
    "    # Operate on the instances of the Forward class to obtain the components of the vector function.\n",
    "    # NOTE: These are also instances of the Forward class.\n",
    "    Fx = AD.sin(X)\n",
    "    Fy = 4*Y + Z**3\n",
    "    \n",
    "    # Manually build the value and derivative arguments that will be used to return a new instance of\n",
    "    # Forward from the components.\n",
    "    val = [Fx.val, Fy.val]\n",
    "    jac = [Fx.der, Fy.der]\n",
    "    \n",
    "    return AD.Forward(val, jac)"
   ]
  },
  {
   "cell_type": "code",
   "execution_count": 8,
   "metadata": {
    "scrolled": true
   },
   "outputs": [
    {
     "data": {
      "text/plain": [
       "Value:\n",
       "[1. 4.]\n",
       "Jacobian:\n",
       "[[ 0.  0.  0.]\n",
       " [ 0.  4. 12.]]"
      ]
     },
     "execution_count": 8,
     "metadata": {},
     "output_type": "execute_result"
    }
   ],
   "source": [
    "f(np.pi/2, 3, -2)"
   ]
  },
  {
   "cell_type": "markdown",
   "metadata": {},
   "source": [
    "<div class=\"alert alert-danger\">\n",
    "<b>The usage for vector functions works but is less friendly than the usage for scalar functions. This may need to be improved before the final submission.</b>\n",
    "</div>"
   ]
  },
  {
   "cell_type": "markdown",
   "metadata": {},
   "source": [
    "## Application: Newton's Method in Higher Dimensions\n",
    "\n",
    "Newton's method is an iterative technique for finding the zeros of nonlinear functions. For scalar functions of a single variable (e.g. $f(x)$), the iterations may be calculated as follows.\n",
    "\\begin{equation}\n",
    "    x_{k+1} = x_k - \\frac{f(x_k)}{f'(x_k)}\n",
    "\\end{equation}\n",
    "Here, $x_{k+1}$ is the next iteration, $x_k$ is the previous iteration, and $f(x)$ is the function of interest. "
   ]
  },
  {
   "cell_type": "markdown",
   "metadata": {},
   "source": [
    "The same technique can be generalized to encompass multivariate vector-valued functions. Suppose $\\mathbf{f}(\\mathbf{x}) \\in \\mathbb{R}^n$ is the differentiable function of interest. Then, the system of equations we wish to solve is $\\mathbf{f}(\\mathbf{x}) = \\mathbf{0}$. Newton's method calculates the solution iteratively as follows.\n",
    "\\begin{equation}\n",
    "    \\mathbf{x}^{(k+1)} = \\mathbf{x}^{(k)} + \\delta\\mathbf{x}^{(k)}\n",
    "\\end{equation}\n",
    "Here, the second term on the right-hand side is defined as\n",
    "\\begin{equation}\n",
    "    \\delta\\mathbf{x}^{(k)} = -\\mathbf{J}\\left(\\mathbf{x}^{(k)}\\right)^{-1}\\mathbf{f}\\left(\\mathbf{x}^{(k)}\\right),\n",
    "\\end{equation}\n",
    "where $\\mathbf{J}\\left(\\mathbf{x}^{(k)}\\right)$ is the Jacobian evaluated at $\\mathbf{x}^{(k)}$. In general, it is computationally expensive to explicitly calculate the inverse of a matrix, so instead, we obtain $\\delta\\mathbf{x}^{(k)}$ by solving the system\n",
    "\\begin{equation}\n",
    "    \\mathbf{J}\\left(\\mathbf{x}^{(k)}\\right)\\delta\\mathbf{x}^{(k)} = -\\mathbf{f}\\left(\\mathbf{x}^{(k)}\\right)\n",
    "\\end{equation}\n",
    "via Gaussian elimination."
   ]
  },
  {
   "cell_type": "code",
   "execution_count": 9,
   "metadata": {},
   "outputs": [],
   "source": [
    "def newton(f, x0, tol=1e-8, max_iter=100):\n",
    "    \"\"\"Newton's method for multivariate vector functions\n",
    "    \n",
    "    Parameters:\n",
    "    ===========\n",
    "    f (callable): vector function of interest\n",
    "    x0 (array_like): initial guess in the form [x, y, z]\n",
    "    tol (float): tolerance value; by default set to 1e-8\n",
    "    max_iter (int): maximum number of iterations to execute\n",
    "    \n",
    "    Returns:\n",
    "    ========\n",
    "    xn (array): solution, if the algorithm converges\n",
    "    \n",
    "    \"\"\"\n",
    "    \n",
    "    # Initial guess\n",
    "    xn = x0\n",
    "    \n",
    "    for n in range(max_iter):\n",
    "        \n",
    "        # Evaluate f\n",
    "        fn = f(*xn)\n",
    "            \n",
    "        # Calculate difference vector\n",
    "        df = np.linalg.solve(fn.der, -fn.val)\n",
    "        \n",
    "        if abs(df).any() < tol:\n",
    "            print(f\"Found a solution after {n} iterations.\")\n",
    "            return np.around(xn, decimals=3)\n",
    "        \n",
    "        if np.linalg.det(fn.der) == 0:\n",
    "            raise ValueError(\"Jacobian not invertible. No solution.\")\n",
    "        \n",
    "        # Update the guess\n",
    "        xn = xn + df\n",
    "    \n",
    "    print(\"Exceeded maximum number of iterations.\")\n",
    "    return None"
   ]
  },
  {
   "cell_type": "code",
   "execution_count": 10,
   "metadata": {},
   "outputs": [],
   "source": [
    "# Example: Adapted from section 3.1 of \"The Mathematics of Nonlinear Programming\" by Peressini, Sullivan and Uhl\n",
    "def f(x,y,z):\n",
    "    X = AD.Forward(x, [1, 0, 0])\n",
    "    Y = AD.Forward(y, [0, 1, 0])\n",
    "    Z = AD.Forward(z, [0, 0, 1])\n",
    "    \n",
    "    Fx = X**2 + Y**2 + Z**2 - 3\n",
    "    Fy = X**2 + Y**2 - Z - 1\n",
    "    Fz = X + Y + Z - 3\n",
    "    \n",
    "    val = np.asarray([Fx.val, Fy.val, Fz.val])\n",
    "    jac = np.asarray([Fx.der, Fy.der, Fz.der])\n",
    "    \n",
    "    return AD.Forward(val, jac)"
   ]
  },
  {
   "cell_type": "code",
   "execution_count": 11,
   "metadata": {
    "scrolled": true
   },
   "outputs": [
    {
     "name": "stdout",
     "output_type": "stream",
     "text": [
      "Found a solution after 27 iterations.\n"
     ]
    },
    {
     "data": {
      "text/plain": [
       "array([1., 1., 1.])"
      ]
     },
     "execution_count": 11,
     "metadata": {},
     "output_type": "execute_result"
    }
   ],
   "source": [
    "newton(f, [1, 0, 1])"
   ]
  },
  {
   "cell_type": "markdown",
   "metadata": {},
   "source": [
    "<div class=\"alert alert-info\">\n",
    "    <b>Something to think about:</b> It might be a good idea to add this as an additional feature in our module.\n",
    "</div>"
   ]
  }
 ],
 "metadata": {
  "kernelspec": {
   "display_name": "Python 3",
   "language": "python",
   "name": "python3"
  },
  "language_info": {
   "codemirror_mode": {
    "name": "ipython",
    "version": 3
   },
   "file_extension": ".py",
   "mimetype": "text/x-python",
   "name": "python",
   "nbconvert_exporter": "python",
   "pygments_lexer": "ipython3",
   "version": "3.7.5"
  }
 },
 "nbformat": 4,
 "nbformat_minor": 2
}
