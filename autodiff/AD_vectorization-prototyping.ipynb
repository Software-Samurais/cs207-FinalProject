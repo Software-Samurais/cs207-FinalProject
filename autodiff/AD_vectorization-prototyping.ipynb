{
 "cells": [
  {
   "cell_type": "code",
   "execution_count": 1,
   "metadata": {},
   "outputs": [],
   "source": [
    "import numpy as np"
   ]
  },
  {
   "cell_type": "code",
   "execution_count": 177,
   "metadata": {},
   "outputs": [],
   "source": [
    "class Forward:\n",
    "    \n",
    "    # NOTE: This constructor works, but there is a bug.\n",
    "    # The derivative prints as an array even when a \n",
    "    # float is passed in as the first argument.\n",
    "    def __init__(self, a, da=None):\n",
    "        \n",
    "        # Convert to arrays\n",
    "        a = np.asarray(a)\n",
    "        \n",
    "        # Set function value(s)\n",
    "        self._val = a.astype(float)\n",
    "        \n",
    "        # Set derivative value(s)\n",
    "        if da is None:\n",
    "            self._der = np.ones(a.size)\n",
    "        else:\n",
    "            self._der = da\n",
    "        \n",
    "    def __repr__(self):\n",
    "        return f\"Function value: {self._val}\\nDerivative value: {self._der}\"\n",
    "    \n",
    "    @property\n",
    "    def val(self):\n",
    "        return self._val\n",
    "    \n",
    "    @property\n",
    "    def der(self):\n",
    "        return self._der\n",
    "    \n",
    "    @val.setter\n",
    "    def val(self, a):\n",
    "        self._val = a\n",
    "        \n",
    "    @der.setter\n",
    "    def der(self, da):\n",
    "        self._der = da\n",
    "    \n",
    "    def __neg__(self):\n",
    "        return Forward(-self._val, -self._der)\n",
    "    \n",
    "    def __add__(self, other):\n",
    "        try:\n",
    "            return Forward(self._val + other._val, self._der + other._der)\n",
    "        except AttributeError:\n",
    "            return Forward(self._val + other, self._der)\n",
    "        \n",
    "    def __radd__(self, other):\n",
    "        return self._add__(other)\n",
    "    \n",
    "    def __sub__(self, other):\n",
    "        return self.__add__(-other)\n",
    "    \n",
    "    def __rsub__(self, other):\n",
    "        return self.__sub__(other)\n",
    "    \n",
    "    def __mul__(self, other):\n",
    "        try:\n",
    "            return Forward(self._val*other._val, self._val*other._der + self._der*other._val)\n",
    "        except AttributeError:\n",
    "            return Forward(other*self._val, other*self._der)\n",
    "    \n",
    "    def __rmul__(self, other):\n",
    "        return self.__mul__(other)\n",
    "    \n",
    "    def __pow__(self, n):\n",
    "        return Forward(self._val**n, n*self._val**(n-1)*self._der)"
   ]
  },
  {
   "cell_type": "code",
   "execution_count": 179,
   "metadata": {
    "scrolled": true
   },
   "outputs": [
    {
     "data": {
      "text/plain": [
       "array(1.)"
      ]
     },
     "execution_count": 179,
     "metadata": {},
     "output_type": "execute_result"
    }
   ],
   "source": [
    "x = Forward(1)\n",
    "x.val"
   ]
  },
  {
   "cell_type": "code",
   "execution_count": 151,
   "metadata": {},
   "outputs": [
    {
     "data": {
      "text/plain": [
       "(numpy.ndarray, numpy.ndarray)"
      ]
     },
     "execution_count": 151,
     "metadata": {},
     "output_type": "execute_result"
    }
   ],
   "source": [
    "type(x._val), type(x._der)"
   ]
  },
  {
   "cell_type": "code",
   "execution_count": 152,
   "metadata": {
    "scrolled": false
   },
   "outputs": [
    {
     "data": {
      "text/plain": [
       "Function value: [1. 2. 3.]\n",
       "Derivative value: [1. 1. 1.]"
      ]
     },
     "execution_count": 152,
     "metadata": {},
     "output_type": "execute_result"
    }
   ],
   "source": [
    "y = Forward([1, 2, 3])\n",
    "y"
   ]
  },
  {
   "cell_type": "code",
   "execution_count": 153,
   "metadata": {},
   "outputs": [
    {
     "data": {
      "text/plain": [
       "Function value: [-1. -2. -3.]\n",
       "Derivative value: [-1. -1. -1.]"
      ]
     },
     "execution_count": 153,
     "metadata": {},
     "output_type": "execute_result"
    }
   ],
   "source": [
    "-y"
   ]
  },
  {
   "cell_type": "code",
   "execution_count": 116,
   "metadata": {},
   "outputs": [],
   "source": [
    "z = Forward([3., 4., 5.])"
   ]
  },
  {
   "cell_type": "code",
   "execution_count": 117,
   "metadata": {
    "scrolled": true
   },
   "outputs": [
    {
     "data": {
      "text/plain": [
       "Function value: [4. 6. 8.]\n",
       "Derivative value: [2. 2. 2.]"
      ]
     },
     "execution_count": 117,
     "metadata": {},
     "output_type": "execute_result"
    }
   ],
   "source": [
    "y + z"
   ]
  },
  {
   "cell_type": "code",
   "execution_count": 118,
   "metadata": {},
   "outputs": [
    {
     "data": {
      "text/plain": [
       "Function value: 4.0\n",
       "Derivative value: [1.]"
      ]
     },
     "execution_count": 118,
     "metadata": {},
     "output_type": "execute_result"
    }
   ],
   "source": [
    "Forward(1.) + 3"
   ]
  },
  {
   "cell_type": "code",
   "execution_count": 119,
   "metadata": {},
   "outputs": [
    {
     "data": {
      "text/plain": [
       "Function value: [5. 7. 9.]\n",
       "Derivative value: [1. 1. 1.]"
      ]
     },
     "execution_count": 119,
     "metadata": {},
     "output_type": "execute_result"
    }
   ],
   "source": [
    "a = np.asarray([1, 2, 3])\n",
    "b = np.asarray([4, 5, 6])\n",
    "Forward(a + b)"
   ]
  },
  {
   "cell_type": "code",
   "execution_count": 120,
   "metadata": {},
   "outputs": [
    {
     "data": {
      "text/plain": [
       "Function value: [2. 3. 4.]\n",
       "Derivative value: [1. 1. 1.]"
      ]
     },
     "execution_count": 120,
     "metadata": {},
     "output_type": "execute_result"
    }
   ],
   "source": [
    "Forward(a+1)"
   ]
  },
  {
   "cell_type": "code",
   "execution_count": 166,
   "metadata": {},
   "outputs": [],
   "source": [
    "def f(x):\n",
    "    return x**3 + 3*x + 4"
   ]
  },
  {
   "cell_type": "code",
   "execution_count": 182,
   "metadata": {},
   "outputs": [],
   "source": [
    "x = Forward(np.linspace(0., 4., 100))"
   ]
  },
  {
   "cell_type": "code",
   "execution_count": 183,
   "metadata": {},
   "outputs": [],
   "source": [
    "import matplotlib.pyplot as plt"
   ]
  },
  {
   "cell_type": "code",
   "execution_count": 184,
   "metadata": {},
   "outputs": [
    {
     "data": {
      "text/plain": [
       "(100, 100, 100)"
      ]
     },
     "execution_count": 184,
     "metadata": {},
     "output_type": "execute_result"
    }
   ],
   "source": [
    "g = f(x)\n",
    "x.val.size, g.val.size, g.der.size"
   ]
  },
  {
   "cell_type": "code",
   "execution_count": 186,
   "metadata": {},
   "outputs": [
    {
     "data": {
      "text/plain": [
       "[<matplotlib.lines.Line2D at 0x7ff42afd0650>]"
      ]
     },
     "execution_count": 186,
     "metadata": {},
     "output_type": "execute_result"
    },
    {
     "data": {
      "image/png": "[encoded data removed]",
      "text/plain": [
       "<Figure size 432x288 with 1 Axes>"
      ]
     },
     "metadata": {
      "needs_background": "light"
     },
     "output_type": "display_data"
    }
   ],
   "source": [
    "plt.plot(x.val, g.val)\n",
    "plt.plot(x.val, g.der)"
   ]
  },
  {
   "cell_type": "code",
   "execution_count": null,
   "metadata": {},
   "outputs": [],
   "source": []
  }
 ],
 "metadata": {
  "kernelspec": {
   "display_name": "Python 3",
   "language": "python",
   "name": "python3"
  },
  "language_info": {
   "codemirror_mode": {
    "name": "ipython",
    "version": 3
   },
   "file_extension": ".py",
   "mimetype": "text/x-python",
   "name": "python",
   "nbconvert_exporter": "python",
   "pygments_lexer": "ipython3",
   "version": "3.7.5"
  }
 },
 "nbformat": 4,
 "nbformat_minor": 2
}
