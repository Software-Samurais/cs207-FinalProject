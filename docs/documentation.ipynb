{
 "cells": [
  {
   "cell_type": "markdown",
   "metadata": {},
   "source": [
    "<h1 style=\"padding-top: 25px;padding-bottom: 25px;text-align: left; padding-left: 10px; background-color: #DDDDDD; \n",
    "    color: black;\"> <img style=\"float: left; padding-right: 10px; width: 45px\" src=\"https://raw.githubusercontent.com/Harvard-IACS/2018-CS109A/master/content/styles/iacs.png\"> CS207 Project Milestone 2  - @Software-Samurais</h1> \n",
    "    \n",
    "### Group 3: \n",
    "#### Erick Ruiz, Jingyuan Liu, Kailas Amin, Simon (Xin) Dong\n",
    "\n",
    "\n",
    "\n",
    "<hr style='height:2px'>"
   ]
  },
  {
   "cell_type": "code",
   "execution_count": 1,
   "metadata": {},
   "outputs": [],
   "source": [
    "from IPython.display import Latex"
   ]
  },
  {
   "cell_type": "markdown",
   "metadata": {},
   "source": [
    "\n",
    "# 1 Introduction\n",
    "\n",
    "The increasing importance of computational models in science and business alongside the slowing pace of advances in computing hardware has increased the need for efficient and accurate evaluations of derivatives. Many important applications such as simulation, opti- mization, and neural networks rely on repeated differentiation of complex functions.\n",
    "\n",
    "Before the advent of automatic differentiation (AD) the primary method for derivative evaluation was the method of finite differences (FD), where the function to be evaluated is effectively treated as black box oracle.1 As the FD method is effectively sampling, the granularity (i.e. step size) of the algorithm can introduce error effects if it is either too large or too small, but even at the perfect medium, f′(x) evaluations cannot reach machine precision. The alternative approach, fully symbolic differentiation (SD), is cumbersome and inefficient in many cases. In the case of a complex computer program, the size of the symbolic expression could grow to outrageous size and cause significant inefficiency.\n",
    "\n",
    "The approach of algorithmic differentiation seeks to find the best of both worlds, with machine precision and easy evaluation. This is done by repeated evaluation of the chain rule at a point stored in a table called the computational trace. Thus rather than storing to full symbolic expression, an AD code only needs to apply the chain rule to a specific evalua- tion, representable by a single variable. This approach allows us to achieve the accuracy of symbolic approaches while drastically reducing the cost of evaluation.\n",
    "Within the umbrella of automatic differentiation, we seek to implement the forward mode which evaluates the intermediate results directly in an inside out manner. Other approaches such as reverse mode also have specific advantages especially in the fields of machine learning and artificial intelligence– or in any context in which the number of inputs dominates the number of outputs.\n",
    "\n",
    "The method of automatic differentiation, sometimes also referred to as algorithmic differ- entiation, addresses the weaknesses of the finite difference method by providing a systematic way to calculate derivatives numerically to arbitrary precision. The goal of AutoDiff is to implement the forward mode of automatic differentiation, as it is a relevant feature that even some mainstream machine learning libraries, such as PyTorch, lack.\n",
    "\n",
    "\n",
    "# 2 Background\n",
    "Understanding the concept of a derivative is crucial to all aspiring and\n",
    "practicing scientists, engineers, and mathematicians. It is one of the\n",
    "first concepts introduced in first-year calculus courses at all\n",
    "universities. The idea is simple. Given a function, $f(x)$, how can we\n",
    "quantify the rate of change of the function due to an infinitesimal\n",
    "change, $\\Delta x$, in the argument, $x$? The answer is typically given\n",
    "in terms of the limit definition of the derivative.\n",
    "\\begin{equation}\n",
    "f'(x) = \\lim_{\\Delta x\\rightarrow 0} \\frac{f(x+\\Delta x)-f(x)}{\\Delta x}\n",
    "\\tag{1}\n",
    "\\end{equation}\n",
    "\n",
    "While equation (1) holds for any function, in practice, it is\n",
    "easier to calculate derivatives analytically according to a set of\n",
    "rules. However, obtaining an analytical expression for the derivative\n",
    "becomes exceedingly difficult if the function of interest is composed of\n",
    "many elementary functions.\\\n",
    "In any case of a derivative evaluating program, we will need to create a\n",
    "code which takes as inputs both a function and evaluation point and then\n",
    "return the derivative at that point. There are many approaches to\n",
    "perform this calculation.\\\n",
    "For example, consider the following function.\n",
    "\n",
    "\\begin{equation}\n",
    "f(x) = \\exp\\left[\\frac{\\sqrt{x^3 - \\ln x + \\sin(4x^2)}}{\\cos(3x^5)}\\right]\n",
    "\\tag{2}\n",
    "\\end{equation}\n",
    "\n",
    "Calculating the first derivative would result\n",
    "in the following expression. \n",
    "\\begin{equation}\n",
    "\\begin{aligned}\n",
    "    f'(x) &= \\exp\\left[\\frac{\\sqrt{x^3 - \\ln x + \\sin(4x^2)}}{\\cos(3x^5)}\\right]\n",
    "    \\sec^2(3x^5)\\dots\\nonumber\\\\\n",
    "    &\\qquad\\times\\left\\{\n",
    "    \\frac{\\cos(3x^5)}{2\\sqrt{x^3 - \\ln x + \\sin(4x^2)}}\n",
    "    \\left[3x^2-\\frac{1}{x}+8x\\cos(4x^2)\\right]\\dots\\right.\\nonumber\\\\\n",
    "    &\\qquad\\qquad+\n",
    "    \\left.\\vphantom{\\frac{\\cos(3x^5)}{2\\sqrt{x^3 - \\ln x + \\sin(4x^2)}}}\n",
    "    15x^4\\sin(3x^5)\\sqrt{x^3 - \\ln x + \\sin(4x^2)}\n",
    "    \\right\\}\\end{aligned}\n",
    "\\tag{3}\n",
    "\\end{equation}\n",
    "\n",
    "Although feasible, successive calculations\n",
    "become more and more complex, and in practice, the quantity to be\n",
    "differentiated may not be a function in closed-form but rather a set of\n",
    "measurements or values given as a one-dimensional vector of numbers. In\n",
    "that case, equation (1) can be approximated using the finite difference\n",
    "method, which replaces an infinitesimal change in the argument for a\n",
    "finite change. To show how this works, let us write the Taylor series\n",
    "expansion of an arbitrary function, $f(x)$, at the point $x+h$.\n",
    "\n",
    "\\begin{equation}\n",
    "f(x+h) = f(x) + hf'(x) + \\frac{h^2}{2}f''(x) + \\dots\n",
    "    \\tag{4}\n",
    "\\end{equation}\n",
    "\n",
    "Keeping only terms of $\\mathcal{O}(h)$ leaves us\n",
    "with \n",
    "\n",
    "\\begin{equation}\n",
    "f(x) \\approx f(h) + hf'(x),\n",
    "\\tag{5}\n",
    "\\end{equation}\n",
    "which we can rearrange to write an\n",
    "approximate expression for the derivative, $f'(x)$.\n",
    "\n",
    "\\begin{equation}\n",
    "f'(x) \\approx \\frac{f(x+h)-f(x)}{h}\n",
    "    \\tag{6}\n",
    "\\end{equation}\n",
    "\n",
    "The finite change, $h$, is called the step size, and\n",
    "equation (6) is known as the forward difference. Its geometric interpretation is\n",
    "described in Figure 1.<img src=\"./img/figure1.jpeg\" width = \"600\" alt=\"name1\" align=center />\n",
    "\n",
    "Although the finite difference method is useful and easy to implement,\n",
    "its accuracy can vary depending on the step size that is chosen. Suppose\n",
    "we wish to approximate the derivative of $f(x)=\\ln x$ using the forward\n",
    "difference method described in equation (6) using step\n",
    "sizes $h=\\{10^{-1},\\,\n",
    "10^{-7},\\,10^{-15}\\}$. This is rather unnecessary because the analytical\n",
    "derivative is just $f'(x) = 1/x$, but this example will serve to\n",
    "illustrate the drawbacks of the finite difference method. At\n",
    "$h=10^{-1}$, the numerical derivative is inaccurate because the step\n",
    "size is too large, making the calculations susceptible to truncation\n",
    "error. Conversely, at $h=10^{-15}$, the forward difference method also\n",
    "gives inaccurate results because the calculations can only be\n",
    "represented to a finite precision by the hardware in use. Hence,\n",
    "rounding error also affects the stability of the finite difference\n",
    "method.\n",
    "\n",
    "In order to evaluate the derivative via forward mode AD we first\n",
    "construct a computational graph which encodes the composition and\n",
    "dependence of sub-function evaluations. It is important to note that\n",
    "each elementary function evaluation needs to be understood at a symbolic\n",
    "level! After constructing the graph, the chain rule is simply applied\n",
    "successively to evaluations at a single point which then generates a\n",
    "table known as the computational trace. To illustrate the concept,\n",
    "consider the following example, adapted from *Evaluating derivatives:\n",
    "principles and techniques of algorithmic differentiation* by Griewank\n",
    "and Walther.\n",
    "\\begin{equation}\n",
    "f(x,y) = \\left[\\sin\\left(\\frac{x}{y}\\right) + \\frac{x}{y} - \\exp(y)\\right]\n",
    "    \\left[\\frac{x}{y} - \\exp(y)\\right]\n",
    "    \\tag{7}\n",
    "\\end{equation}\n",
    "A function of two arguments (i.e. variables $x$ and\n",
    "$y$) like the one in equation (7) can be\n",
    "evaluated at point by replacing the arguments with numerical values. The\n",
    "series of calculations needed to carry out the evaluation can be\n",
    "visualized as a computation graph, as shown in Figure 2.<img src=\"./img/figure2.png\" width = \"800\" alt=\"name\" align=center />\n",
    "The graph helps visualize the order of the\n",
    "computations, and it also establishes the dependence of successive\n",
    "calculations on previous ones.\\\n",
    "Although in many cases, the AD approach is given the entire function as\n",
    "input, this is not always the case. This necessitates the need for a\n",
    "\\\"seed\\\" value. In the basic case when the entire function is given, we\n",
    "can simply initialize the computational trace (discussed below) as 1.\n",
    "However, given the need for modularity which respects the chain rule, it\n",
    "is also possible to input a different seed, allowing for the integration\n",
    "of AD onto a sub segment of the function.\n",
    "\n",
    "\\\n",
    "The procedure for constructing such a graph is the following. Define a\n",
    "node for each of the inputs using a new variable. For this example, we\n",
    "will let $x_1 = x$ and $x_2 = y$. From there, any successive nodes may\n",
    "accept two inputs at maximum, and each node represents a new\n",
    "calculation. For example, in the computational graph shown in Figure 3, the node $x_3$ represents the calculation\n",
    "$x_1/x_2$, which later becomes an input in successive nodes. While the\n",
    "computational graph is useful for visualizing the entire computation\n",
    "procedure, the computational trace is useful for storing values as the\n",
    "computation is carried out. The computational trace for\n",
    "$f(1.5000, 0.5000)$ is given in Table 1![Table1](img/table1.png) In reference to the above, we can note that in\n",
    "this trace, the seed is 1 and thus suppressed as is often notated. In\n",
    "addition, it is important to note that depending on what implementation\n",
    "of forward mode the exact target computed can be slightly different. In\n",
    "particular, the vectorized extension of our milestone 2 code computes\n",
    "the Jacobian.\n",
    "\n",
    "Beyond the basic forward mode, there exists other implementations of AD\n",
    "in the so called \"reverse mode\\\". This approach can increase efficiency\n",
    "significantly in cases when the number of inputs is far greater than the\n",
    "number of outputs.\n"
   ]
  },
  {
   "cell_type": "markdown",
   "metadata": {},
   "source": [
    "# 3 How to use\n",
    "## 3.1 <span id=\"jump\">Installation</span>\n",
    "\n",
    "The `github` url to the project is https://github.com/Software-Samurais/cs207-FinalProject.\n",
    "\n",
    "We provide two ways for our package installation: PyPI and GitHub.\n",
    "### Install from PyPI\n",
    "\n",
    "We have already uploaded our GuruDiff package to PyPI. To use the GuruDiff package, users should first run the commands provided below to install our package via pip and import it.\n",
    "\n",
    "\n",
    "- Install GuruDiff using pip:\n",
    "```shell\n",
    "pip install GuruDiff\n",
    "```\n",
    "- Import GuruDiff package to use\n",
    "```Python\n",
    "import GuruDiff.AD as AD\n",
    "```\n",
    "\n",
    "### Install from GitHub\n",
    "- Download the package from GitHub to your folder via these commands (in the terminal)\n",
    "\n",
    "```shell\n",
    "# Clone the repo\n",
    "git clone https://github.com/Software-Samurais/cs207-FinalProject.git\n",
    "\n",
    "```\n",
    "\n",
    "- Create a virtual environment and activate it (for Mac and Ubutun)\n",
    "\n",
    "```shell\n",
    "# If you don't have virtualenv, install it\n",
    "sudo easy_install virtualenv\n",
    "# Create virtual environment\n",
    "virtualenv env\n",
    "# Activate your virtual environment\n",
    "source env/bin/activate\n",
    "```\n",
    "\n",
    "- Install the necessary dependencies :\n",
    "\n",
    "```shell\n",
    "pip install -r requirements.txt\n",
    "```\n",
    "\n",
    "- Run module tests (in the root directory):\n",
    "\n",
    "```shell\n",
    "# Run module tests if you like\n",
    "python -m pytest ./test/test_forward.py ./test/test_reverse.py\n",
    "```\n",
    "\n",
    "## 3.2 Getting Started with `GuruDiff`\n",
    "\n",
    "The following is a demonstration of `GuruDiff`'s capabilities to help the user hit the ground running. "
   ]
  },
  {
   "cell_type": "code",
   "execution_count": 2,
   "metadata": {},
   "outputs": [],
   "source": [
    "import sys \n",
    "# Adds a relative file path to this notebook\n",
    "sys.path.append(\"..\") \n",
    "\n",
    "import matplotlib.pyplot as plt\n",
    "import numpy as np\n",
    "\n",
    "import autodiff.AD as AD"
   ]
  },
  {
   "cell_type": "markdown",
   "metadata": {},
   "source": [
    "## Declaring Variables and Performing Elementary Operations\n",
    "### Scalar Variables\n",
    "We may define a scalar variable as follows."
   ]
  },
  {
   "cell_type": "code",
   "execution_count": 3,
   "metadata": {},
   "outputs": [],
   "source": [
    "x = AD.Var(np.pi)"
   ]
  },
  {
   "cell_type": "markdown",
   "metadata": {},
   "source": [
    "Note that we when a value for the derivative is not specified, a default value of `1.0` is assigned automatically."
   ]
  },
  {
   "cell_type": "code",
   "execution_count": 4,
   "metadata": {},
   "outputs": [
    {
     "data": {
      "text/plain": [
       "Function value:\n",
       "3.141592653589793\n",
       "Derivative value:\n",
       "1.0"
      ]
     },
     "execution_count": 4,
     "metadata": {},
     "output_type": "execute_result"
    }
   ],
   "source": [
    "# Display a variable's most relevant information\n",
    "x"
   ]
  },
  {
   "cell_type": "markdown",
   "metadata": {},
   "source": [
    "We also allow the user to specify a value for the derivative."
   ]
  },
  {
   "cell_type": "code",
   "execution_count": 5,
   "metadata": {
    "scrolled": true
   },
   "outputs": [
    {
     "data": {
      "text/plain": [
       "Function value:\n",
       "1.0\n",
       "Derivative value:\n",
       "3.0"
      ]
     },
     "execution_count": 5,
     "metadata": {},
     "output_type": "execute_result"
    }
   ],
   "source": [
    "y = AD.Var(1.0, 3.0)\n",
    "y"
   ]
  },
  {
   "cell_type": "markdown",
   "metadata": {},
   "source": [
    "In addition, we may use scalar variables to define custom scalar functions composed of standard elementary operations."
   ]
  },
  {
   "cell_type": "code",
   "execution_count": 5,
   "metadata": {
    "scrolled": true
   },
   "outputs": [
    {
     "data": {
      "text/plain": [
       "Function value:\n",
       "8.86963026268246\n",
       "Derivative value:\n",
       "6.283022813997788"
      ]
     },
     "execution_count": 5,
     "metadata": {},
     "output_type": "execute_result"
    }
   ],
   "source": [
    "def f(x):\n",
    "    return x**2 + AD.cos(x) + 0.5*AD.exp(-x**2)\n",
    "\n",
    "f(x)"
   ]
  },
  {
   "cell_type": "markdown",
   "metadata": {},
   "source": [
    "<div class=\"alert alert-info\"> \n",
    "    Since <code>x</code> is a forward mode variable, we must use the implementations of elementary functions defined in the <code>AD</code> module instead of the standard Numpy methods.\n",
    "</div>"
   ]
  },
  {
   "cell_type": "markdown",
   "metadata": {},
   "source": [
    "### Scalar Variables Using Arrays\n",
    "Suppose we wish to define a scalar variable containing an array as the function value to visualize both the function and derivative values (e.g. plot $\\sin x$). The `Var` class is versatile enough to handle this directly!"
   ]
  },
  {
   "cell_type": "code",
   "execution_count": 6,
   "metadata": {
    "scrolled": true
   },
   "outputs": [
    {
     "data": {
      "image/png": "[encoded data removed]",
      "text/plain": [
       "<Figure size 432x288 with 1 Axes>"
      ]
     },
     "metadata": {
      "needs_background": "light"
     },
     "output_type": "display_data"
    }
   ],
   "source": [
    "# Instance of the `Var` class with an array as the function value\n",
    "x = AD.Var(np.linspace(-np.pi, np.pi, 100))\n",
    "\n",
    "# Function to visualize\n",
    "f1 = AD.sin(x)\n",
    "\n",
    "# Plot function and derivative\n",
    "plt.figure()\n",
    "plt.plot(x.val, f1.val, label=\"$\\sin x$\")\n",
    "plt.plot(x.val, f1.der, label=\"$\\cos x$\")\n",
    "plt.xlabel(\"$x$\")\n",
    "plt.ylabel(\"$y$\")\n",
    "plt.legend()\n",
    "plt.grid()\n",
    "plt.show()"
   ]
  },
  {
   "cell_type": "markdown",
   "metadata": {},
   "source": [
    "### Vector Function Variables\n",
    "Suppose we have a vector-valued function of the form $\\mathbf{f}(\\mathbf{x}) \\in \\mathbb{R}^m$, where $\\mathbf{x} \\in \\mathbb{R}^n$. Defining a variable for a vector function can be accomplished in a similar manner as before. As an example, consider the vector-valued function\n",
    "\\begin{equation}\n",
    "    \\mathbf{f}(\\mathbf{x})\n",
    "    =\n",
    "    \\begin{pmatrix}\n",
    "        \\sin x\\\\\n",
    "        4y + z^3\n",
    "    \\end{pmatrix}.\n",
    "\\end{equation}\n",
    "Calculating $\\nabla\\mathbf{f}$ yields the following Jacobian.\n",
    "\\begin{equation}\n",
    "    \\nabla\\mathbf{f} \n",
    "    = \n",
    "    \\begin{pmatrix}\n",
    "        \\cos x & 0 & 0\\\\\n",
    "        0 & 4 & 3z^2\n",
    "    \\end{pmatrix}\n",
    "\\end{equation}"
   ]
  },
  {
   "cell_type": "code",
   "execution_count": 7,
   "metadata": {
    "scrolled": true
   },
   "outputs": [
    {
     "data": {
      "text/plain": [
       "Function values:\n",
       "[1. 4.]\n",
       "Jacobian:\n",
       "[[6.123234e-17 0.000000e+00 0.000000e+00]\n",
       " [0.000000e+00 4.000000e+00 1.200000e+01]]"
      ]
     },
     "execution_count": 7,
     "metadata": {},
     "output_type": "execute_result"
    }
   ],
   "source": [
    "# Define scalar variables and their respective unit vectors\n",
    "x = AD.Var(np.pi/2, [1, 0, 0])\n",
    "y = AD.Var(3, [0, 1, 0])\n",
    "z = AD.Var(-2, [0, 0, 1])\n",
    "\n",
    "# Use the scalar variables to define vector-valued function\n",
    "f = AD.Var([AD.sin(x), 4*y + z**3])\n",
    "f"
   ]
  },
  {
   "cell_type": "markdown",
   "metadata": {},
   "source": [
    "### Demos"
   ]
  },
  {
   "cell_type": "code",
   "execution_count": 10,
   "metadata": {},
   "outputs": [
    {
     "data": {
      "text/plain": [
       "Function value:\n",
       "[6.]\n",
       "Derivative value:\n",
       "[5.]"
      ]
     },
     "execution_count": 10,
     "metadata": {},
     "output_type": "execute_result"
    }
   ],
   "source": [
    "# ℝ1→ℝ1\n",
    "x = AD.Var([np.pi/2])\n",
    "f = AD.sin(x) + 5 * AD.tan(x/2)\n",
    "f"
   ]
  },
  {
   "cell_type": "code",
   "execution_count": 11,
   "metadata": {},
   "outputs": [
    {
     "data": {
      "text/plain": [
       "Function value:\n",
       "3.718281828459045\n",
       "Gradient:\n",
       "[0.         2.71828183]"
      ]
     },
     "execution_count": 11,
     "metadata": {},
     "output_type": "execute_result"
    }
   ],
   "source": [
    "# ℝm→ℝ1\n",
    "x = AD.Var([np.pi/2], [1, 0])\n",
    "y = AD.Var([1], [0, 1])\n",
    "f = AD.sin(x) + AD.exp(y)\n",
    "f"
   ]
  },
  {
   "cell_type": "code",
   "execution_count": 12,
   "metadata": {},
   "outputs": [
    {
     "data": {
      "text/plain": [
       "Function values:\n",
       "[1.        2.4674011]\n",
       "Derivative values:\n",
       "[[0.        ]\n",
       " [3.14159265]]"
      ]
     },
     "execution_count": 12,
     "metadata": {},
     "output_type": "execute_result"
    }
   ],
   "source": [
    "# ℝ1→ℝn\n",
    "x = AD.Var([np.pi/2], [1])\n",
    "f = AD.Var([AD.sin(x), x ** 2])\n",
    "f"
   ]
  },
  {
   "cell_type": "code",
   "execution_count": 13,
   "metadata": {},
   "outputs": [
    {
     "data": {
      "text/plain": [
       "Function values:\n",
       "[1. 4.]\n",
       "Jacobian:\n",
       "[[ 0.  0.  0.]\n",
       " [ 0.  4. 12.]]"
      ]
     },
     "execution_count": 13,
     "metadata": {},
     "output_type": "execute_result"
    }
   ],
   "source": [
    "#ℝm→ℝn\n",
    "x = AD.Var([np.pi/2], [1, 0, 0])\n",
    "y = AD.Var([3], [0, 1, 0])\n",
    "z = AD.Var([-2], [0, 0, 1])\n",
    "f = AD.Var([AD.sin(x), 4 * y + z ** 3])\n",
    "f"
   ]
  },
  {
   "cell_type": "markdown",
   "metadata": {},
   "source": [
    "## Application: Newton's Method in Higher Dimensions\n",
    "\n",
    "Newton's method is an iterative technique for finding the zeros of nonlinear functions. For scalar functions of a single variable (e.g. $f(x)$), the iterations may be calculated as follows.\n",
    "\\begin{equation}\n",
    "    x_{k+1} = x_k - \\frac{f(x_k)}{f'(x_k)}\n",
    "\\end{equation}\n",
    "Here, $x_{k+1}$ is the next iteration, $x_k$ is the previous iteration, and $f(x)$ is the function of interest."
   ]
  },
  {
   "cell_type": "markdown",
   "metadata": {},
   "source": [
    "The same technique can be generalized to encompass multivariate vector-valued functions. Suppose $\\mathbf{f}(\\mathbf{x}) \\in \\mathbb{R}^m$ is the differentiable function of interest. Then, the system of equations we wish to solve is $\\mathbf{f}(\\mathbf{x}) = \\mathbf{0}$. Newton's method calculates the solution iteratively as follows.\n",
    "\\begin{equation}\n",
    "    \\mathbf{x}^{(k+1)} = \\mathbf{x}^{(k)} + \\delta\\mathbf{x}^{(k)}\n",
    "\\end{equation}\n",
    "Here, the second term on the right-hand side is defined as\n",
    "\\begin{equation}\n",
    "    \\delta\\mathbf{x}^{(k)} = -\\mathbf{J}\\left(\\mathbf{x}^{(k)}\\right)^{-1}\\mathbf{f}\\left(\\mathbf{x}^{(k)}\\right),\n",
    "\\end{equation}\n",
    "where $\\mathbf{J}\\left(\\mathbf{x}^{(k)}\\right)$ is the Jacobian evaluated at $\\mathbf{x}^{(k)}$. In general, it is computationally expensive to explicitly calculate the inverse of a matrix, so instead, we obtain $\\delta\\mathbf{x}^{(k)}$ by solving the system\n",
    "\\begin{equation}\n",
    "    \\mathbf{J}\\left(\\mathbf{x}^{(k)}\\right)\\delta\\mathbf{x}^{(k)} = -\\mathbf{f}\\left(\\mathbf{x}^{(k)}\\right)\n",
    "\\end{equation}\n",
    "via Gaussian elimination."
   ]
  },
  {
   "cell_type": "code",
   "execution_count": 8,
   "metadata": {},
   "outputs": [],
   "source": [
    "def newton(f, x0, tol=1e-8, max_iter=100):\n",
    "    \"\"\"Newton's method for multivariate vector functions\n",
    "    \n",
    "    Parameters:\n",
    "    ===========\n",
    "    f (callable): vector function of interest\n",
    "    x0 (array_like): initial guess in the form [x, y, z]\n",
    "    tol (float): tolerance value; by default set to 1e-8\n",
    "    max_iter (int): maximum number of iterations to execute\n",
    "    \n",
    "    Returns:\n",
    "    ========\n",
    "    xn (array): solution, if the algorithm converges\n",
    "    \n",
    "    \"\"\"\n",
    "    \n",
    "    # Initial guess\n",
    "    xn = x0\n",
    "    \n",
    "    for n in range(max_iter):\n",
    "        \n",
    "        # Evaluate f\n",
    "        fn = f(*xn)\n",
    "            \n",
    "        # Calculate difference vector\n",
    "        df = np.linalg.solve(fn.der, -fn.val)\n",
    "        \n",
    "        if abs(df).any() < tol:\n",
    "            print(f\"Found a solution after {n} iterations.\")\n",
    "            return np.around(xn, decimals=3)\n",
    "        \n",
    "        if np.linalg.det(fn.der) == 0:\n",
    "            raise ValueError(\"Jacobian not invertible. No solution.\")\n",
    "        \n",
    "        # Update the guess\n",
    "        xn = xn + df\n",
    "    \n",
    "    print(\"Exceeded maximum number of iterations.\")\n",
    "    return None"
   ]
  },
  {
   "cell_type": "code",
   "execution_count": 9,
   "metadata": {},
   "outputs": [],
   "source": [
    "# Example: Adapted from section 3.1 of \"The Mathematics of Nonlinear Programming\" by Peressini, Sullivan and Uhl\n",
    "def f(x,y,z):\n",
    "    X = AD.Var(x, [1, 0, 0])\n",
    "    Y = AD.Var(y, [0, 1, 0])\n",
    "    Z = AD.Var(z, [0, 0, 1])\n",
    "    \n",
    "    Fx = X**2 + Y**2 + Z**2 - 3\n",
    "    Fy = X**2 + Y**2 - Z - 1\n",
    "    Fz = X + Y + Z - 3\n",
    "    \n",
    "    val = np.asarray([Fx.val, Fy.val, Fz.val])\n",
    "    jac = np.asarray([Fx.der, Fy.der, Fz.der])\n",
    "    \n",
    "    return AD.Var(val, jac)"
   ]
  },
  {
   "cell_type": "code",
   "execution_count": 10,
   "metadata": {},
   "outputs": [
    {
     "name": "stdout",
     "output_type": "stream",
     "text": [
      "Found a solution after 27 iterations.\n"
     ]
    },
    {
     "data": {
      "text/plain": [
       "array([1., 1., 1.])"
      ]
     },
     "execution_count": 10,
     "metadata": {},
     "output_type": "execute_result"
    }
   ],
   "source": [
    "newton(f, [1, 0, 1])"
   ]
  },
  {
   "cell_type": "markdown",
   "metadata": {},
   "source": [
    "# 4 Software Organization\n",
    "\n",
    "## 4.1 Directory Structure\n",
    "The package's directory will be structured as follows:\n",
    "``` py\n",
    "Ccs207-FinalProject\n",
    "    /autodiff                                           #Back-end source code\n",
    "\t    __init__.py                                     #Initialization\n",
    "\t    forward.py                                      #Forward mode: main file\n",
    "        reverse.py                                      #Reverse mode: extension feature\n",
    "\t/test                                               #Test cases\n",
    "\t\ttest_forward.py\n",
    "        test_reverse.py\n",
    "\t/docs                                               #Documentation and records\n",
    "\t\tmilestone1.pdf\n",
    "        milestone2.ipynb\n",
    "        documentation.ipynb                             #Final documentation for the package\n",
    "\t/demo                                               #Simple demos for user\n",
    "    .travis.yml                                         #Setting up Travis CI \n",
    "    setup.py                                            #Releasing package\n",
    "    requirements.txt                                    #Packages on which the program depends\n",
    "    README.md                                           #Introduction for the project\n",
    "```\n",
    "##  4.2 Basic Modules and functionality\n",
    "\n",
    "We choose to have two module published: forward mode for auto-differentiation in `AD` module and reverse mode in `reverse` module.\n",
    "\n",
    "- **forward**: This module contains our custom library for auto differentiation in forward mode. \n",
    "    - The `AD` module includes a `Var` class that contains values and derivatives, which is used to define a variable for auto differentiation. In the class, we override the operators like `__repr__`, `__neg__`, `__add__`, `__radd__`, `__sub__`, `__rsub__`, `__mul__`, `__rmul__`, `__truediv__`, `__rtruediv__`, `__pow__` and comparison operators like `__eq__` and `__ne__`.\n",
    "    - In addition, we define class-specific functions including Trig functions (sine, cosine, tangent), Inverse trig functions (arcsine, arccosine, arctangent), Exponentials with any base, Hyperbolic functions (sinh, cosh, tanh), Logistic function, Logarithms with any base, Square root. Thus the user could use our defined math function easily (as we use numpy).\n",
    "\n",
    "- **reverse**: This module contains our custom library for auto differentiation in reverse mode. It includes several class: Node, Op (including sevaral sub-class for specific operator), Executor. \n",
    "    - `Node` class defines the Node in a computation graph used in reverse mode, which contains list of input nodes, operator, constant, and node name .In the class, we also override the basic operators and comparison operators.\n",
    "    - `Op` class defines the operations performed on nodes. It could return a Node which is created by this op, real values, or a Node for the gradient computation in the reverse mode. It is the parent class for several operaor class like `SinOp`, `ExpOp` etc. Those classes inherited from `Op` define Elementary Functions for the operations that our forward mode implements.\n",
    "    - `Executor` class computes values for a given subset of nodes in a computation graph. It takes list of nodes whose values need to be computed as input.\n",
    "\n",
    "    \n",
    "## 4.3 Test Suite\n",
    "### Where do the tests live? \n",
    "\n",
    "All test files will be placed in the test folder.\n",
    "\n",
    "- `test_forward`: It includes tests for scalar or vector functions to ensure that the AD module properly calculates values of different functions and gradients with respect to scalar or vector inputs.\n",
    "\n",
    "- `test_reverse`: This is a test suite for our extention feature: reverse mode. It ensures the reverse model properly works.\n",
    "\n",
    "### How are they run? \n",
    "\n",
    "Users can run the test suite by running in the root folder:\n",
    "```shell\n",
    "python -m pytest ./test/test_forward.py #seperately test forward\n",
    "python -m pytest ./test/test_reverse.py #seperately test reverse\n",
    "python -m pytest ./test/test_forward.py ./test/test_reverse.py #test all\n",
    "```\n",
    "### How are they integrated?\n",
    "\n",
    "We would utilize Travis CI and CodeCov to make the development process more reliable and professional. \n",
    "\n",
    "- `Travis CI` is used as a distributed CI (Continuous Integration) tools to build and automate test the project.\n",
    "     \n",
    "- `CodeCov` is used for test results analysis (eg. measuring test code coverage) and visualization.    \n",
    "\n",
    "\n",
    "\n",
    "## 4.4 Software Package and Distribution:\n",
    "### Package distribution\n",
    "We will package our software using `PyPI` (Python Package Index) for release. Write and run ’setup.py’ to package the software and upload it to the distribution server, thus people in community could easily download our package by ’pip install’.\n",
    "### Version Control\n",
    "We will take Version Control into consideration according to the standard in Python Enhancement Proposal (PEP) 386. With version control, we can tell the user what changes we made and set clear boundaries for where those changes occurred.\n",
    "\n",
    "## 4.5 How to install the package\n",
    "\n",
    "User can download and install our package either using pip or manually clone from github as mentioned in [3.1 Installation](#jump).\n",
    "\n",
    "- For consumers, We suggest to follow installation procedure with pip, which is simple and easy to achieve.\n",
    "\n",
    "- For developers, they could also install from pip but they may care about the source code and the detailed implementation. If so, they could clone they repository from github and even contribute to the new version of the package."
   ]
  },
  {
   "cell_type": "markdown",
   "metadata": {},
   "source": [
    "\n",
    "# 5 Implementation\n",
    "\n",
    "## 5.1 Core Data Structures\n",
    "\n",
    "- **List and Numpy array** - Users can pass their variable in the format of list, and we will transform it to numpy array for further calculation. In forward mode, we use numpy array to rrack how many independent variables have been created and do corresponding operations. In reverse mode, we can also dynamically track the descendants of this variable in the computational graph.\n",
    "\n",
    "\n",
    "## 5.2 Core Classes and Important Attributes\n",
    "There are one core classes in the forward mode: the Var class and three core classes in the reverse mode: Node, Op (including sevaral sub-class for specific operator), Executor.\n",
    "### Var\n",
    "The core class for forward mode is the `Var`. Defining an instance of the class allows the user to denote a scalar or vector variable with function value and derivative value. \n",
    "\n",
    "It has two **attributes**:\n",
    "\n",
    "**Note:** The following two attributes are considered private. The user should not access these directly.\n",
    "\n",
    "There exist getter and setter methods to access current values and set new values for `_val` and `_der`.\n",
    "\n",
    "To cover vector-to-vector cases, we implement our self._var and self._der as float or numpy arrays. the constructor checks whether the values and derivatives are integers, floats, or lists, and transforms them into float or numpy arrays automatically.\n",
    "- `_val`: Stores the function value\n",
    "- `_der`: Stores the derivative value; defaults to `1.0` or corresponding shape of numpy array with all `1.0` if the user does not pass in a second argument to `Var` when defining a new instance.\n",
    "\n",
    "We have implemented the following methods for the `Var` class as basic operators and comparison operators, that take in 1 Var object, or 2 Var object, or 1 Var object and 1 constant, and return a new Var object:\n",
    "\n",
    "- `__init__`:initialize a Var class object, regardless of the user input, with values and derivatives stored as float or numpy array.\n",
    "- `__repr__`: overload the print format, prints self in the intuitive form of Function value: [val] Derivative/Gradient/Jacobian: [der]). Derivative would refer to simple scalar variables, Gradient would refer to scalar functions of multiple variables, and Jacobian is reserved for vector functions.\n",
    "- `__neg__`: overload negitive function\n",
    "- `__add__`: overload add function to handle addition of Var class objects and addition of Var and non-Var objects\n",
    "- `__radd__`: preserve addition commutative property.\n",
    "- `__sub__`: overload sub function to handle addition of Var class objects and addition of Var and non-Var objects\n",
    "- `__rsub__`: preserve substraction commutative property.\n",
    "- `__mul__`: overload multiplication function to handle addition of Var class objects and addition of v and non-AutoDiff objects\n",
    "- `__rmul__`: preserve multiplication commutative property.\n",
    "- `__truediv__`: overload division function to handle addition of Var class objects and addition of Var and non-Var objects\n",
    "- `__rtruediv__`: preserve division commutative property. \n",
    "-` __pow__`: extend power functions to Var class objects, the power could be int, float or Var class objects.\n",
    "- `__eq__`: return True if two Var objects have the same value and derivative (including value and shape), False otherwise.\n",
    "- `__ne__`: return False if two Var objects have the same value and derivative (including value and shape), True otherwise.\n",
    " \n",
    "### Node\n",
    "\n",
    "`Node` class define a Node in a computation graph when using reverse mode. It helps to dynamically track the descendants of this variable in the computational graph.\n",
    "\n",
    "It has four **attributes**:\n",
    "- `inputs`: the list of input nodes.\n",
    "- `op`: the associated op object, e.g. add_op object if this node is created by adding two other nodes.\n",
    "- `const_attr`: the add or multiply constant, e.g. self.const_attr=5 if this node is created by x+5.\n",
    "- `name`: node name for debugging purposes.\n",
    "\n",
    "as we do in forwad mode with Var class, we also overload the following methods to deal with the situation when operating between a Node object and a int/float number: `__str__` (this will return the node name), `__neg__`, \n",
    "`__add__`, `__radd__` , `__sub__`, `__rsub__`, `__mul__`, `__rmul__`, `__truediv__`, `__rtruediv__`, `__pow__`, `__eq__`, `__ne__`.\n",
    "\n",
    "### Op\n",
    "\n",
    "Op represents operations performed on nodes. This is a parent class for specific operator. It has no attribute but three important methods.\n",
    "\n",
    "- `__call__`: Create a new node and associate the op object with the node. This return a Node which is created by this op.\n",
    "- `compute`: the only function which will return real values which will be used for computation. It takes node (node that performs the compute) and input_vals (values of input nodes) as inputs and returns an output value of the node.\n",
    "- `gradient`: return a Node for the gradient computation for the reverse mode. It takes node (node that performs the gradient) and output_grad (value of output gradient summed from children nodes' contributions) as inputs and returns a list of gradient contributions to each input node respectively.\n",
    "\n",
    "The former two methods actually are implemented in child class inherited from the Op class. We define following classes as operators:\n",
    "\n",
    "- `AddOp`: Op to element-wise add two nodes.\n",
    "- `AddByConstOp`: Op to element-wise add a nodes by a constant.\n",
    "- `MulOp`: Op to element-wise multiply two nodes.\n",
    "- `MulByConstOp`: Op to element-wise multiply a nodes by a constant.\n",
    "- `MatMulOp`: Op to matrix multiply two nodes.\n",
    "\n",
    "For code reusability, we don't define SubOp and DivideOp because x SubOp y can be subsitituted by x + (- y) and x DividedOp y is actually x * ($y^{-1}$).\n",
    "\n",
    "similar to forward mode, we define elementary function as operator classes with element-wise functions: `SinOp`,\n",
    "`CosOp`, `TanOp`, `SinhOp`, `CoshOp`, `TanhOp`, `ArcSinOp`, `ArcCosOp`, `ArcTanOp`, `ExpOp`, `LogOp`, `PowerOp`, `LogisticOp`.\n",
    "\n",
    "There are some sepecial Op child classes:\n",
    "- `PlaceholderOp`: Op to feed value to a nodes. The call function creates a variable node.\n",
    "- `ZerosLikeOp`: Op that represents a constant np.zeros_like. The call function creates a node that represents a np.zeros array of same shape as node_A.\n",
    "- `OnesLikeOp`: Op that represents a constant np.ones_like. The call function creates a node that represents a np.ones array of same shape as node_A.\n",
    "\n",
    "\n",
    "### Executor\n",
    "`Executor` class computes values for a given subset of nodes in a computation graph.\n",
    "\n",
    "It has one attribute:\n",
    "- `eval_node_list`: list of nodes whose values need to be computed.\n",
    "\n",
    "and one method:\n",
    "\n",
    "- `run`: Computes values of nodes in eval_node_list given computation graph. It takes feed_dict (list of variable nodes whose values are supplied by user) as input and returns a list of values for nodes in eval_node_list.\n",
    "\n",
    "Our reverse mode implementation is efficient which absorbs the insight of TenforFlow. The executor class is similar to what we done when using session in TenforFlow.\n",
    "\n",
    "\n",
    "\n",
    "## 5.3 External Dependencies\n",
    "- Numpy: is used for mathematical calculations and deal with value and derivative vectors. \n",
    "\n",
    "- pytest: it provides us a systematic way to test \n",
    "\n",
    "- setuptools, wheel, twine: setuptools, wheel are used to package our repo before we distribute it and twine are use to distribute our package to PyPI.\n",
    "\n",
    "- TravisCI and Codecov: they are our test suites.\n",
    "\n",
    "\n",
    "## 5.4 Elementary Functions\n",
    "we define elementary functions who takes Var object as input and return a Var object with its value and derivative updated according to the elementary function it corresponds to using the chain rule. Including \n",
    "- Trig functions: `sin(x)`, `cos(x)` , `tan(x)`\n",
    "\n",
    "- Inverse trig functions: `arcsine(x)`, `arccosine(x)`, `arctangent(x)` \n",
    "\n",
    "- Hyperbolic functions: `sinh(x)`, `cosh(x)`, `tanh(x)`\n",
    "\n",
    "- Square root: `sqrt(x)`, Logistic function: `logistic(x)`\n",
    "\n",
    "- Exponentials with any base: `exp(x, base)`, Logarithms with any base `log(x, base)`. x would be a Var obeject and base would be int. If user do not denote base, it will be set to natural base as default.\n",
    "\n",
    "Thus the user could use our defined math function easily (as we use numpy). Note that elementary function will raise a `ValueError` if the user passes in a function value that is outside the valid domain. For example: log(0), arcsin(3) etc.\n",
    "\n",
    "To avoid rounding error, the `check_tol` method in the `forward` module compares the calculated values with their rounded counterparts. For example, suppose we wish to calculate $\\tan x$ and its derivative at $x=\\pi/4$. The `check_tol` method ensures that `AD.tan(AD.AutoDiff(np.pi/4))` returns `Function value: 1.0, Derivative value: 2.0` rather than `Function value: 1.0, Derivative value: 1.999999...`.\n",
    "\n",
    "\n",
    "\n"
   ]
  },
  {
   "cell_type": "markdown",
   "metadata": {},
   "source": [
    "# 6 Extension - Reverse Mode\n",
    "\n",
    "Apart from the detailed implementation for reverse mode in part 5, we would like to give description of some high-level insight of our extension. For the reverse mode, we need to build the computational graph and figure out the sequence of computation correctly to get the right gradient.\n",
    "### Ststic V.S. Dynamic Graph\n",
    "Basically, there are two strategies of building the computational graph, static graph and dynamic graph. The former computes value and gradient after finishing graph and the latter do the computation dynamically. Although dynamic is easier to debug and more user-friendly, static graph is more clear to understand reverse mode and more suitable for this course. So we choose static graph based reverse mode as our main framework.\n",
    "### Attributes and Data Structure Used in Class Node\n",
    "A computational graph consists of multiple nodes. Each node has two main attributes, self.inputs and self.op which indicate inputs of current node and the operation between inputs. It is worth mentioning that nodes are created by their own operation. The input list is a python list whose elements are inputs of the current node. For example, if `node_3 =  ad.Op_1(node_2, node_1)` , we have `node_3.inputs = [node_2, node_1]` and `node_3.op = ad.Op_1`. Several operations are implemented, such as add, add_by_const, mul, mul_by_const, tan, sin and so on. \n",
    "### How to Support Higher-Order Gradient\n",
    "To better support higher order gradient computation, gradients of leaf and intermediate variable are also represented by nodes. As a result, our computational graph not only has nodes representing values of variable during forward propagation, but also has nodes representing gradients of variable during back propagation. If users want to compute higher order gradient, they can easily add new nodes representing gradient of nodes of low order gradient. With this mechanism, we can compute any order gradient.\n",
    "### Traveral on Graph\n",
    "How to find the path of creating nodes of gradients in the graph is also quite important to get correct results efficiently. Given a list of nodes, we use a post-order Depth First Search (DFS) to get a topological sort list of nodes ending in our target nodes. The reverse of this list is the right sequence to add nodes of gradients.\n",
    "\n",
    "### Efficiency of Our Implementation\n",
    "As we mentioned above, we use nodes to represent both values and gradients of variables in the same graph. This implementation has two advantages. First, to compute a gradient node, we may have to access to some associated value nodes. With our implementation, we do not have to recompute the results of these value nodes. Second, we do post-order DFS on the computational graph and try to find a topology-sorted list of nodes which means that we only need to use part of the graph to compute the result of a certain node we care about instead of executing the whole graph."
   ]
  },
  {
   "cell_type": "markdown",
   "metadata": {},
   "source": [
    "# 7 Future Work\n",
    "\n",
    "So far, our GuruDiff can handle both scalar and vector functions in both forward and reverse mode. Our basic implementation for the two modes actually combines the advantage of PyTorch and TensorFlow. In reverse mode, we could calculate pluriderivative. Based on this, one thing we want to achieve in the future is to add more applications for users, like optimization, root finding etc. Another thing is that we hope this package is friendly to who are not so familiar with coding and can be served as a wonderful educational tool in courses. So we would like to develop a graphical user interface to let customers play with the package as a calculator or visualize the process the want to figure out.\n",
    "## 7.1 Optimization\n",
    "\n",
    "### Background\n",
    "\n",
    "Nowadays, machine learning and deep neural network are widely used in different areas like computer science, economics, physics, biology etc. One key point for most of the algotithms is using Gradient Descent to find the local minimum of a function f. Specifically, a user may want to find optimal weights to minimize a loss function. \n",
    "\n",
    "BFGS, short for “Broyden–Fletcher–Goldfarb–Shanno algorithm”, seeks a stationary point of a function, i.e. where the gradient is zero. In quasi-Newton methods, the Hessian matrix of second derivatives is not computed. Instead, the Hessian matrix is approximated using updates specified by gradient evaluations (or approximate gradient evaluations).\n",
    "\n",
    "Here is a pseudocode of the implementation of BFGS.<img src=\"./img/op1.jpeg\" width = \"400\" alt=\"name\" align=center />\n",
    "\n",
    "\n",
    "### Method\n",
    "\n",
    "In future work, we want to add some method to the optimization module:\n",
    "`GradientDescent:` solve for a local minimum of a function. It takes following input:\n",
    "- f: in machine learning applications, this should be the loss/objective function in a format of a numpy array.\n",
    "\n",
    "- x: initial guess for function f\n",
    "\n",
    "- iters: the maximum number of iterations to run\n",
    "\n",
    "- tol: a threshold for the algorithm to terminate when difference is smaller than tol\n",
    "\n",
    "and outputs a numpy array of the minimum that the algorithm found and the Jacobian value at the specified root. In addition, we hope it also return the value and gradient path for the finding process, thus we can define plot function that can visualize the gradient descent process. This is very helpful to make the process intuitional and friendly for beginners in machine learning field. \n",
    "\n",
    "## 7.2 GUI\n",
    "\n",
    "Hopefully, we want to develop a web application for the user to easy use the package. We may need:\n",
    "- For web development, we would use `Flask`, a micro web framework, which is suitable for a small team to complete the implementation of a feature-rich small website and easily add customized functions.\n",
    "- For GUI (Graphical User Interface), we may choose `Vue.js`, a JavaScript frame- work for building user interfaces and single-page applications. Because it offers many API (Application Program Interface) to integrate with existing projects and is easy to get started. It is better in code reuse compared to frameworks like `jQuery`.\n",
    "\n",
    "The web page should include a calculator for users to pass the input and see the value and derivative of their defined function. This will be convenient for our daily use.\n",
    "\n",
    "It should also could display all the results when user using our package, thus it could serve as a good demo in classes for teachers to guide beginners.\n"
   ]
  }
 ],
 "metadata": {
  "kernelspec": {
   "display_name": "Python 3",
   "language": "python",
   "name": "python3"
  },
  "language_info": {
   "codemirror_mode": {
    "name": "ipython",
    "version": 3
   },
   "file_extension": ".py",
   "mimetype": "text/x-python",
   "name": "python",
   "nbconvert_exporter": "python",
   "pygments_lexer": "ipython3",
   "version": "3.7.3"
  }
 },
 "nbformat": 4,
 "nbformat_minor": 2
}
