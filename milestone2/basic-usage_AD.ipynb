{
 "cells": [
  {
   "cell_type": "markdown",
   "metadata": {},
   "source": [
    "# Basic Usage of Automatic Differentiation"
   ]
  },
  {
   "cell_type": "code",
   "execution_count": 1,
   "metadata": {},
   "outputs": [],
   "source": [
    "import matplotlib.pyplot as plt\n",
    "import numpy as np\n",
    "\n",
    "import AD"
   ]
  },
  {
   "cell_type": "markdown",
   "metadata": {},
   "source": [
    "## Working with Elementary Functions"
   ]
  },
  {
   "cell_type": "markdown",
   "metadata": {},
   "source": [
    "### Elementary Operations\n",
    "\n",
    "We can perform basic elementary operations on `AutoDiff` objects, just as we would with numbers. For example, addition, subtraction, multiplication, division, and power operations are all supported. Simply define an instance of the `AutoDiff` class to get started. "
   ]
  },
  {
   "cell_type": "code",
   "execution_count": 2,
   "metadata": {},
   "outputs": [],
   "source": [
    "x = AD.AutoDiff(3.0)"
   ]
  },
  {
   "cell_type": "code",
   "execution_count": 3,
   "metadata": {},
   "outputs": [
    {
     "data": {
      "text/plain": [
       "Function value: 6.0, Derivative value: 1.0"
      ]
     },
     "execution_count": 3,
     "metadata": {},
     "output_type": "execute_result"
    }
   ],
   "source": [
    "# Addition\n",
    "x + 3."
   ]
  },
  {
   "cell_type": "code",
   "execution_count": 4,
   "metadata": {},
   "outputs": [
    {
     "data": {
      "text/plain": [
       "Function value: 2.0, Derivative value: 1.0"
      ]
     },
     "execution_count": 4,
     "metadata": {},
     "output_type": "execute_result"
    }
   ],
   "source": [
    "# Subtraction\n",
    "x - 1."
   ]
  },
  {
   "cell_type": "code",
   "execution_count": 5,
   "metadata": {},
   "outputs": [
    {
     "data": {
      "text/plain": [
       "Function value: 9.0, Derivative value: 3.0"
      ]
     },
     "execution_count": 5,
     "metadata": {},
     "output_type": "execute_result"
    }
   ],
   "source": [
    "# Multiplication\n",
    "3.*x"
   ]
  },
  {
   "cell_type": "code",
   "execution_count": 6,
   "metadata": {},
   "outputs": [
    {
     "data": {
      "text/plain": [
       "Function value: 1.0, Derivative value: 0.3333333333333333"
      ]
     },
     "execution_count": 6,
     "metadata": {},
     "output_type": "execute_result"
    }
   ],
   "source": [
    "# Division\n",
    "x/3."
   ]
  },
  {
   "cell_type": "code",
   "execution_count": 7,
   "metadata": {
    "scrolled": true
   },
   "outputs": [
    {
     "data": {
      "text/plain": [
       "Function value: 9.0, Derivative value: 6.0"
      ]
     },
     "execution_count": 7,
     "metadata": {},
     "output_type": "execute_result"
    }
   ],
   "source": [
    "# Power\n",
    "x**2"
   ]
  },
  {
   "cell_type": "markdown",
   "metadata": {},
   "source": [
    "### Trigonometric Functions, Exponentials, and Logarithms\n",
    "\n",
    "Other basic elementary operations, such as trigonometric functions, exponentials, and natural logarithms are also supported. Example uses of each of these are shown in the following cells. "
   ]
  },
  {
   "cell_type": "code",
   "execution_count": 8,
   "metadata": {},
   "outputs": [
    {
     "data": {
      "text/plain": [
       "Function value: 0.1411200080598672, Derivative value: -0.9899924966004454"
      ]
     },
     "execution_count": 8,
     "metadata": {},
     "output_type": "execute_result"
    }
   ],
   "source": [
    "# Sine\n",
    "AD.sin(x)"
   ]
  },
  {
   "cell_type": "code",
   "execution_count": 9,
   "metadata": {},
   "outputs": [
    {
     "data": {
      "text/plain": [
       "Function value: -0.9899924966004454, Derivative value: -0.1411200080598672"
      ]
     },
     "execution_count": 9,
     "metadata": {},
     "output_type": "execute_result"
    }
   ],
   "source": [
    "# Cosine\n",
    "AD.cos(x)"
   ]
  },
  {
   "cell_type": "code",
   "execution_count": 10,
   "metadata": {},
   "outputs": [
    {
     "data": {
      "text/plain": [
       "Function value: -0.1425465430742778, Derivative value: 1.020319516942427"
      ]
     },
     "execution_count": 10,
     "metadata": {},
     "output_type": "execute_result"
    }
   ],
   "source": [
    "# Tangent\n",
    "AD.tan(x)"
   ]
  },
  {
   "cell_type": "code",
   "execution_count": 11,
   "metadata": {},
   "outputs": [
    {
     "data": {
      "text/plain": [
       "Function value: 8103.083927575384, Derivative value: 48618.50356545231"
      ]
     },
     "execution_count": 11,
     "metadata": {},
     "output_type": "execute_result"
    }
   ],
   "source": [
    "# Exponential\n",
    "AD.exp(x**2)"
   ]
  },
  {
   "cell_type": "code",
   "execution_count": 12,
   "metadata": {
    "scrolled": true
   },
   "outputs": [
    {
     "data": {
      "text/plain": [
       "Function value: 1.0986122886681098, Derivative value: 0.3333333333333333"
      ]
     },
     "execution_count": 12,
     "metadata": {},
     "output_type": "execute_result"
    }
   ],
   "source": [
    "# Logarithm\n",
    "AD.log(x)"
   ]
  },
  {
   "cell_type": "markdown",
   "metadata": {},
   "source": [
    "### Arbitrary Functions\n",
    "\n",
    "Arbitrary functions can be defined using these elementary operations. For example, suppose we wish to work with the function\n",
    "\\begin{equation}\n",
    "    f(x) = \\exp\\left(\\sin x^2\\right) - x^4. \n",
    "\\end{equation}\n",
    "We may define $f(x)$ using the standard Python conventions. However, instead of using the `exp` and `sin` methods from Numpy, we must use the `exp` and `sin` methods defined in the `AD` module because only the latter accept instances of the `AutoDiff` class as inputs. "
   ]
  },
  {
   "cell_type": "code",
   "execution_count": 13,
   "metadata": {
    "scrolled": true
   },
   "outputs": [
    {
     "data": {
      "text/plain": [
       "Function value: -79.48998665997453, Derivative value: -116.25491309968052"
      ]
     },
     "execution_count": 13,
     "metadata": {},
     "output_type": "execute_result"
    }
   ],
   "source": [
    "# Some arbitrary function\n",
    "def f(x):\n",
    "    return AD.exp(AD.sin(x**2)) - x**4\n",
    "\n",
    "f(x)"
   ]
  },
  {
   "cell_type": "markdown",
   "metadata": {},
   "source": [
    "## Application: Newton's Method\n",
    "\n",
    "Given an equation, $f(x)$, Newton's method allows us to find solutions to $f(x)=0$ iteratively. Starting with an initial guess, $x_0$, we evaluate the function and its derivative at $x_0$. If $|f(x_0)| < \\epsilon$, where $\\epsilon$ is some tolerance value much less than one, then the iteration stops. Otherwise, the value of the next guess, $x_1$, is obtained as follows.\n",
    "\\begin{equation}\n",
    "    x_1 = x_0 - \\frac{f(x_0)}{f'(x_0)}\n",
    "\\end{equation}\n",
    "Following the same scheme, the $n$-th iteration can be written as \n",
    "\\begin{equation}\n",
    "    x_n = x_{n-1} - \\frac{f(x_{n-1})}{f'(x_{n-1})},\n",
    "\\end{equation}\n",
    "where $x_{n-1}$ is the guess at the previous iteration.\n",
    "\n",
    "Since Newton's method makes use of the derivative of the function of interest, we may use automatic differentiation to implement Newton's method! Traditionally, we might consider using the finite difference method to approximate $f'(x)$ or define it explicitly in our routine. There are drawbacks to each of these approaches. The finite difference method is easy to implement, but its accuracy is strongly dependent on choosing the right step size. If $f(x)$ is a simple function, then explicitly defining $f'(x)$ is not a problem. However, this is not always possible. With the `AD` module, there is no need to approximate or explicitly define $f'(x)$. As we operate on our initial guess, $x_0$, the value of the derivative is automatically calculated as well, making it easy to implement Newton's method."
   ]
  },
  {
   "cell_type": "code",
   "execution_count": 14,
   "metadata": {},
   "outputs": [],
   "source": [
    "def newton(f, x0, tol=1e-16, max_iter=100):\n",
    "    \"\"\"Solves f(x) = 0 using Newton's method.\n",
    "    \n",
    "    Args:\n",
    "    =========\n",
    "    f (function): Function of interest\n",
    "    x0 (float): Initial guess\n",
    "    tol (float): Tolerance value\n",
    "    max_iter (int): Maximum number of iterations\n",
    "    \n",
    "    Returns:\n",
    "    =========\n",
    "    xn.val (float): Solution to f(x) = 0 if it exists\n",
    "                    None if xn.der is zero or if the maximum number of \n",
    "                    iterations is reached without satisfying the stopping  \n",
    "                    criteria\n",
    "    \"\"\"\n",
    "    \n",
    "    # Initial guess\n",
    "    xn = x0\n",
    "    \n",
    "    for n in range(max_iter):\n",
    "        \n",
    "        # Calculate f(xn) and f'(xn) using the AutoDiff class\n",
    "        fn = f(xn)\n",
    "        \n",
    "        # Stop iterating if |f(xn)| is less than the tolerance value and return \n",
    "        # the solution, xn\n",
    "        if abs(fn.val) < tol:\n",
    "            print(f\"Found a solution after {n} iterations.\")\n",
    "            return xn.val\n",
    "        \n",
    "        # Check if the derivative is zero\n",
    "        if fn.der == 0:\n",
    "            raise ValueError(\"Encountered zero derivative. No solution.\")\n",
    "            \n",
    "        # Update guess\n",
    "        xn = xn - fn.val/fn.der\n",
    "        \n",
    "    # Stop iterating if no solution is found within the allowed number of \n",
    "    # iterations\n",
    "    print(\"Exceeded maximum number of iterations.\")\n",
    "    return None"
   ]
  },
  {
   "cell_type": "code",
   "execution_count": 15,
   "metadata": {
    "scrolled": true
   },
   "outputs": [
    {
     "name": "stdout",
     "output_type": "stream",
     "text": [
      "Found a solution after 6 iterations.\n",
      "Solution: 1.618033988749895\n"
     ]
    }
   ],
   "source": [
    "# Function of interest\n",
    "def f(x):\n",
    "    return x**2-x-1\n",
    "\n",
    "# Initial guess   \n",
    "x0 = AD.AutoDiff(1.0)\n",
    "\n",
    "print(f\"Solution: {newton(f, x0)}\")"
   ]
  },
  {
   "cell_type": "markdown",
   "metadata": {},
   "source": [
    "## Vectorization: A First Attempt\n",
    "\n",
    "As written, the `AD` module only supports scalar inputs. However, a hack to produce vector outputs is to build the function and derivative vectors element-wise. This is slow and will need to be addressed in a future implementation, but it works for obtaining first derivatives directly."
   ]
  },
  {
   "cell_type": "code",
   "execution_count": 16,
   "metadata": {},
   "outputs": [],
   "source": [
    "# Domain of interest\n",
    "x1 = np.linspace(-1., 1., 100)\n",
    "\n",
    "# Store function values\n",
    "F = []\n",
    "dF = []\n",
    "\n",
    "# Calculate function and derivative values using `AutoDiff`\n",
    "for dx1 in x1:\n",
    "    F.append(f(AD.AutoDiff(dx1)).val)\n",
    "    dF.append(f(AD.AutoDiff(dx1)).der)"
   ]
  },
  {
   "cell_type": "code",
   "execution_count": 17,
   "metadata": {},
   "outputs": [
    {
     "data": {
      "image/png": "[encoded data removed]",
      "text/plain": [
       "<Figure size 432x288 with 1 Axes>"
      ]
     },
     "metadata": {
      "needs_background": "light"
     },
     "output_type": "display_data"
    }
   ],
   "source": [
    "# Plot f(x) and f'(x)\n",
    "plt.figure()\n",
    "plt.plot(x1, F, label=\"$f(x)$\")\n",
    "plt.plot(x1, dF, label=\"$f'(x)$\")\n",
    "plt.xlabel(\"$x$\")\n",
    "plt.ylabel(\"$f(x)$\")\n",
    "plt.legend()\n",
    "plt.grid()\n",
    "plt.show()"
   ]
  }
 ],
 "metadata": {
  "kernelspec": {
   "display_name": "Python 3",
   "language": "python",
   "name": "python3"
  },
  "language_info": {
   "codemirror_mode": {
    "name": "ipython",
    "version": 3
   },
   "file_extension": ".py",
   "mimetype": "text/x-python",
   "name": "python",
   "nbconvert_exporter": "python",
   "pygments_lexer": "ipython3",
   "version": "3.7.4"
  }
 },
 "nbformat": 4,
 "nbformat_minor": 2
}
